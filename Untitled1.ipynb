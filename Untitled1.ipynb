{
  "nbformat": 4,
  "nbformat_minor": 0,
  "metadata": {
    "colab": {
      "provenance": [],
      "authorship_tag": "ABX9TyOW5/8Tc8eYEQbSztr8e4Gy",
      "include_colab_link": true
    },
    "kernelspec": {
      "name": "python3",
      "display_name": "Python 3"
    },
    "language_info": {
      "name": "python"
    }
  },
  "cells": [
    {
      "cell_type": "markdown",
      "metadata": {
        "id": "view-in-github",
        "colab_type": "text"
      },
      "source": [
        "<a href=\"https://colab.research.google.com/github/calegaromaria/chatbot_aula4/blob/main/Untitled1.ipynb\" target=\"_parent\"><img src=\"https://colab.research.google.com/assets/colab-badge.svg\" alt=\"Open In Colab\"/></a>"
      ]
    },
    {
      "cell_type": "markdown",
      "source": [
        "instalando o sdk do google."
      ],
      "metadata": {
        "id": "xqQ6qOQXibNs"
      }
    },
    {
      "cell_type": "code",
      "execution_count": 1,
      "metadata": {
        "id": "fbqVQnfMiI4D"
      },
      "outputs": [],
      "source": [
        "!pip install -q -U google-generativeai\n"
      ]
    },
    {
      "cell_type": "code",
      "source": [
        "import google.generativeai as genai\n",
        "from google.colab import userdata\n",
        "api_key = userdata.get('SECRET_KEY')\n",
        "GOOGLE_API_KEY = api_key\n",
        "genai.configure(api_key=GOOGLE_API_KEY)\n"
      ],
      "metadata": {
        "id": "1J_WLSTFjAsE"
      },
      "execution_count": 26,
      "outputs": []
    },
    {
      "cell_type": "markdown",
      "source": [
        "Listar os modelos disponíveis\n"
      ],
      "metadata": {
        "id": "tiiKe7aijRzo"
      }
    },
    {
      "cell_type": "markdown",
      "source": [
        "para m (variavel criada), na lista de genai. Se os metodos de geração suportados pelo google tem o campo generated content, eu quero que eles imprimam m e com seus nomes."
      ],
      "metadata": {
        "id": "rNMbYM1jkZod"
      }
    },
    {
      "cell_type": "code",
      "source": [
        "for m in genai.list_models():\n",
        "  if 'generateContent' in m.supported_generation_methods:\n",
        "    print(m.name)"
      ],
      "metadata": {
        "colab": {
          "base_uri": "https://localhost:8080/",
          "height": 138
        },
        "id": "BeAGv6b9lcCM",
        "outputId": "76e8051f-a15e-4b4b-facb-ad6bfa994875"
      },
      "execution_count": 4,
      "outputs": [
        {
          "output_type": "stream",
          "name": "stdout",
          "text": [
            "models/gemini-1.0-pro\n",
            "models/gemini-1.0-pro-001\n",
            "models/gemini-1.0-pro-latest\n",
            "models/gemini-1.0-pro-vision-latest\n",
            "models/gemini-1.5-pro-latest\n",
            "models/gemini-pro\n",
            "models/gemini-pro-vision\n"
          ]
        }
      ]
    },
    {
      "cell_type": "markdown",
      "source": [
        "configura a obviedade do conteúdo."
      ],
      "metadata": {
        "id": "Ac2wWUN-6Pfr"
      }
    },
    {
      "cell_type": "code",
      "source": [
        "generation_config ={\n",
        "    \"candidate_count\": 1,\n",
        "    \"temperature\": 0.5,\n",
        "\n",
        "}"
      ],
      "metadata": {
        "id": "beVu5H4fmxAz"
      },
      "execution_count": 5,
      "outputs": []
    },
    {
      "cell_type": "markdown",
      "source": [
        "filtro de conteúdos ofensivos"
      ],
      "metadata": {
        "id": "5vm14_4Z6FGi"
      }
    },
    {
      "cell_type": "code",
      "source": [
        "safety_settings= {\n",
        "    \"HARASSMENT\": \"BLOCK_NONE\",\n",
        "    \"HATE\": \"BLOCK_NONE\",\n",
        "    \"SEXUAL\": \"BLOCK_NONE\",\n",
        "    \"DANGEROUS\": \"BLOCK_NONE\"\n",
        "}"
      ],
      "metadata": {
        "id": "Ywc3SmovnZKV"
      },
      "execution_count": 16,
      "outputs": []
    },
    {
      "cell_type": "markdown",
      "source": [
        "Inicializando o modelo do AI para para gemini 1.0"
      ],
      "metadata": {
        "id": "1mXkvJzMoib8"
      }
    },
    {
      "cell_type": "code",
      "source": [
        "model = genai.GenerativeModel(model_name= \"gemini-1.0-pro\",\n",
        "                              generation_config=generation_config,\n",
        "                              safety_settings=safety_settings)"
      ],
      "metadata": {
        "id": "ABLl5vqDoc4y"
      },
      "execution_count": 17,
      "outputs": []
    },
    {
      "cell_type": "code",
      "source": [
        "response = model.generate_content(\"Vamos aprender conteúdos sobre IA. Me dê sugestões\")\n",
        "print(response.text)"
      ],
      "metadata": {
        "colab": {
          "base_uri": "https://localhost:8080/",
          "height": 746
        },
        "id": "LlGshm47plAu",
        "outputId": "0046d008-b361-4f99-f4a5-132bf6d887b7"
      },
      "execution_count": 18,
      "outputs": [
        {
          "output_type": "stream",
          "name": "stdout",
          "text": [
            "**Conceitos Fundamentais**\n",
            "\n",
            "* O que é Inteligência Artificial (IA)?\n",
            "* Tipos de IA (Aprendizado de Máquina, Aprendizado Profundo, Processamento de Linguagem Natural)\n",
            "* Algoritmos e técnicas de IA\n",
            "* Ética e implicações da IA\n",
            "\n",
            "**Aprendizado de Máquina**\n",
            "\n",
            "* Conceitos de Aprendizado de Máquina Supervisionado, Não Supervisionado e por Reforço\n",
            "* Modelos de Aprendizado de Máquina (Regressão, Classificação, Clustering)\n",
            "* Avaliação e otimização de modelos\n",
            "* Ferramentas e bibliotecas de Aprendizado de Máquina\n",
            "\n",
            "**Aprendizado Profundo**\n",
            "\n",
            "* O que é Aprendizado Profundo?\n",
            "* Redes Neurais (Convolucionais, Recorrentes, Transformers)\n",
            "* Arquiteturas de Redes Neurais (CNNs, RNNs, GANs)\n",
            "* Treinamento e avaliação de Redes Neurais\n",
            "\n",
            "**Processamento de Linguagem Natural**\n",
            "\n",
            "* Conceitos de Processamento de Linguagem Natural (PNL)\n",
            "* Análise de Texto (Tokenização, Stemming, Lematização)\n",
            "* Modelagem de Linguagem (Modelos de Sequência a Sequência)\n",
            "* Tarefas de PNL (Classificação de Texto, Geração de Linguagem)\n",
            "\n",
            "**Aplicações da IA**\n",
            "\n",
            "* IA na Saúde (Diagnóstico, Tratamento, Pesquisa)\n",
            "* IA em Finanças (Análise de Mercado, Detecção de Fraudes)\n",
            "* IA em Transporte (Veículos Autônomos, Gerenciamento de Trânsito)\n",
            "* IA em Varejo (Recomendações Personalizadas, Análise de Sentimentos)\n",
            "* IA na Educação (Aprendizado Personalizado, Avaliação Automatizada)\n",
            "\n",
            "**Tendências e Avanços**\n",
            "\n",
            "* IA Generativa (GPT-3, DALL-E)\n",
            "* IA Quântica\n",
            "* IA de Borda\n",
            "* IA Responsável e Sustentável\n"
          ]
        }
      ]
    },
    {
      "cell_type": "markdown",
      "source": [
        "Agora faremos um chat com a seguinte linha abaixo."
      ],
      "metadata": {
        "id": "0pOmGEKUsFLM"
      }
    },
    {
      "cell_type": "markdown",
      "source": [
        " Agora construiremos um chat AI. Ele usa o contexto dos prompts e respostas anteriores para responder de forma costumizada o usuário.\n"
      ],
      "metadata": {
        "id": "oi9CchD_vEqJ"
      }
    },
    {
      "cell_type": "code",
      "source": [
        "chat = model.start_chat(history=[])"
      ],
      "metadata": {
        "id": "VASX0jKUrU7m"
      },
      "execution_count": 20,
      "outputs": []
    },
    {
      "cell_type": "markdown",
      "source": [
        "enquanto o prompt for diferente de fim, envie a pergunta e envie a resposta"
      ],
      "metadata": {
        "id": "3_tc7_s6tq7C"
      }
    },
    {
      "cell_type": "code",
      "source": [
        "prompt = input(\"esperando prompt: \")\n",
        "while prompt != \"fim\":\n",
        "  response = chat.send_message(prompt)\n",
        "  print(\"resposta: \", response.text, \"\\n\")\n",
        "  prompt = input(\"esperando prompt: \")"
      ],
      "metadata": {
        "colab": {
          "base_uri": "https://localhost:8080/",
          "height": 191
        },
        "id": "yEHefdbCsPZo",
        "outputId": "65897578-e2ae-4274-a86b-b3231cdcfcdc"
      },
      "execution_count": 27,
      "outputs": [
        {
          "name": "stdout",
          "output_type": "stream",
          "text": [
            "esperando prompt: qual a capital do japão?\n",
            "resposta:  Tóquio \n",
            "\n",
            "esperando prompt: Meu primo nasceu nesse país. Dessa forma qual é a sua nacionalidade?\n",
            "resposta:  Japonesa \n",
            "\n",
            "esperando prompt: Em que mês faz mais calor no país do meu primo?\n",
            "resposta:  Agosto \n",
            "\n",
            "esperando prompt: fim\n"
          ]
        }
      ]
    },
    {
      "cell_type": "code",
      "source": [],
      "metadata": {
        "id": "SGQ3ZSqOscaJ"
      },
      "execution_count": null,
      "outputs": []
    }
  ]
}